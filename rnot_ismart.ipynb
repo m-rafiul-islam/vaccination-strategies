{
  "nbformat": 4,
  "nbformat_minor": 0,
  "metadata": {
    "colab": {
      "name": "rnot_ismart.ipynb",
      "provenance": [],
      "authorship_tag": "ABX9TyN/qvF+U4eGqxW25MxtM2LR",
      "include_colab_link": true
    },
    "kernelspec": {
      "name": "python3",
      "display_name": "Python 3"
    },
    "language_info": {
      "name": "python"
    }
  },
  "cells": [
    {
      "cell_type": "markdown",
      "metadata": {
        "id": "view-in-github",
        "colab_type": "text"
      },
      "source": [
        "<a href=\"https://colab.research.google.com/github/m-rafiul-islam/vaccination-strategies/blob/main/rnot_ismart.ipynb\" target=\"_parent\"><img src=\"https://colab.research.google.com/assets/colab-badge.svg\" alt=\"Open In Colab\"/></a>"
      ]
    },
    {
      "cell_type": "code",
      "source": [
        "pip install sympy"
      ],
      "metadata": {
        "colab": {
          "base_uri": "https://localhost:8080/"
        },
        "id": "73X8Bjkxl4nK",
        "outputId": "f69ec339-e4b3-4fdd-f0da-2d3345d03ec3"
      },
      "execution_count": 143,
      "outputs": [
        {
          "output_type": "stream",
          "name": "stdout",
          "text": [
            "Looking in indexes: https://pypi.org/simple, https://us-python.pkg.dev/colab-wheels/public/simple/\n",
            "Requirement already satisfied: sympy in /usr/local/lib/python3.7/dist-packages (1.7.1)\n",
            "Requirement already satisfied: mpmath>=0.19 in /usr/local/lib/python3.7/dist-packages (from sympy) (1.2.1)\n"
          ]
        }
      ]
    },
    {
      "cell_type": "code",
      "execution_count": 120,
      "metadata": {
        "id": "foX2MOk1lqMa"
      },
      "outputs": [],
      "source": [
        "import sympy as sym\n",
        "# Not necessary but gives nice-looking latex output\n",
        "# More info at: http://docs.sympy.org/latest/tutorial/printing.html\n",
        "sym.init_printing()"
      ]
    },
    {
      "cell_type": "code",
      "source": [
        " Vi = lambda x,y: [[mu_E+x,0,0,0,0,0,0,0,0,0,0],\n",
        "                      [0,mu_E,0,0,0,0,0,0,0,0,0],\n",
        "                      [-x,0,mu_E,0,0,0,0,0,0,0,0],\n",
        "                      [-mu_E*(1-y),0,0,mu_A+x,0,0,0,0,0,0,0],\n",
        "                      [0,-mu_E*(1-y),0,0,mu_A,0,0,0,0,0,0],\n",
        "                      [0,0,-mu_E*(1-y*(1-delta[0])),-x,0,mu_A,0,0,0,0,0],\n",
        "                      [-mu_E*y,0,0,0,0,0,mu_P+x,0,0,0,0],\n",
        "                      [0,-mu_E*y,0,0,0,0,0,mu_P,0,0,0],\n",
        "                      [0,0,-mu_E*y*(1-delta[0]),0,0,0,-x,0,mu_P,0,0],\n",
        "                      [0,0,0,0,0,0,-mu_P,-mu_P,0,mu_C,0],\n",
        "                      [0,0,0,0,0,0,0,0,-mu_P,0,mu_C]]"
      ],
      "metadata": {
        "id": "Mb1CdpPqmP24"
      },
      "execution_count": 121,
      "outputs": []
    },
    {
      "cell_type": "code",
      "source": [
        "Vi"
      ],
      "metadata": {
        "colab": {
          "base_uri": "https://localhost:8080/"
        },
        "id": "bH7O68m3mgOK",
        "outputId": "537b5347-b6d9-48ba-93a5-dd7b8e76642c"
      },
      "execution_count": 122,
      "outputs": [
        {
          "output_type": "execute_result",
          "data": {
            "text/plain": [
              "<function __main__.<lambda>>"
            ]
          },
          "metadata": {},
          "execution_count": 122
        }
      ]
    },
    {
      "cell_type": "code",
      "source": [
        "p_1,p_2,p_3,B_11,B_12,B_13,B_14,B_15,B_16,B_17,B_18,B_21,B_22,B_23,B_24,B_25,B_26,B_27,B_28,B_31,B_32,B_33,B_34,B_35,B_36,B_37,B_38  = sym.symbols('p_1 p_2 p_3 B_11 B_12 B_13 B_14 B_15 B_16 B_17 B_18 B_21 B_22 B_23 B_24 B_25 B_26 B_27 B_28 B_31 B_32 B_33 B_34 B_35 B_36 B_37 B_38')\n",
        "Fi = sym.Matrix([[0,0,0, p_1*B_11, p_1*B_12, p_1*B_13, p_1*B_14, p_1*B_15, p_1*B_16, p_1*B_17, p_1*B_18],\n",
        "                [0,0,0, p_2*B_21, p_2*B_22, p_2*B_23, p_2*B_24, p_2*B_25, p_2*B_26, p_2*B_27, p_2*B_28],\n",
        "                 [0,0,0, p_3*B_31, p_3*B_32, p_3*B_33, p_3*B_34, p_3*B_35, p_3*B_36, p_3*B_37, p_3*B_38],\n",
        "                 [0,0,0,0,0,0,0,0,0,0,0], [0,0,0,0,0,0,0,0,0,0,0], [0,0,0,0,0,0,0,0,0,0,0],[0,0,0,0,0,0,0,0,0,0,0],\n",
        "                 [0,0,0,0,0,0,0,0,0,0,0], [0,0,0,0,0,0,0,0,0,0,0], [0,0,0,0,0,0,0,0,0,0,0], [0,0,0,0,0,0,0,0,0,0,0]\n",
        "                 ])\n",
        "Fi  "
      ],
      "metadata": {
        "colab": {
          "base_uri": "https://localhost:8080/",
          "height": 241
        },
        "id": "ZtTBy11Q75xN",
        "outputId": "8f495932-922e-4d96-aeb2-28c952ca75e9"
      },
      "execution_count": 123,
      "outputs": [
        {
          "output_type": "execute_result",
          "data": {
            "text/plain": [
              "⎡0  0  0  B₁₁⋅p₁  B₁₂⋅p₁  B₁₃⋅p₁  B₁₄⋅p₁  B₁₅⋅p₁  B₁₆⋅p₁  B₁₇⋅p₁  B₁₈⋅p₁⎤\n",
              "⎢                                                                       ⎥\n",
              "⎢0  0  0  B₂₁⋅p₂  B₂₂⋅p₂  B₂₃⋅p₂  B₂₄⋅p₂  B₂₅⋅p₂  B₂₆⋅p₂  B₂₇⋅p₂  B₂₈⋅p₂⎥\n",
              "⎢                                                                       ⎥\n",
              "⎢0  0  0  B₃₁⋅p₃  B₃₂⋅p₃  B₃₃⋅p₃  B₃₄⋅p₃  B₃₅⋅p₃  B₃₆⋅p₃  B₃₇⋅p₃  B₃₈⋅p₃⎥\n",
              "⎢                                                                       ⎥\n",
              "⎢0  0  0    0       0       0       0       0       0       0       0   ⎥\n",
              "⎢                                                                       ⎥\n",
              "⎢0  0  0    0       0       0       0       0       0       0       0   ⎥\n",
              "⎢                                                                       ⎥\n",
              "⎢0  0  0    0       0       0       0       0       0       0       0   ⎥\n",
              "⎢                                                                       ⎥\n",
              "⎢0  0  0    0       0       0       0       0       0       0       0   ⎥\n",
              "⎢                                                                       ⎥\n",
              "⎢0  0  0    0       0       0       0       0       0       0       0   ⎥\n",
              "⎢                                                                       ⎥\n",
              "⎢0  0  0    0       0       0       0       0       0       0       0   ⎥\n",
              "⎢                                                                       ⎥\n",
              "⎢0  0  0    0       0       0       0       0       0       0       0   ⎥\n",
              "⎢                                                                       ⎥\n",
              "⎣0  0  0    0       0       0       0       0       0       0       0   ⎦"
            ],
            "text/latex": "$\\displaystyle \\left[\\begin{array}{ccccccccccc}0 & 0 & 0 & B_{11} p_{1} & B_{12} p_{1} & B_{13} p_{1} & B_{14} p_{1} & B_{15} p_{1} & B_{16} p_{1} & B_{17} p_{1} & B_{18} p_{1}\\\\0 & 0 & 0 & B_{21} p_{2} & B_{22} p_{2} & B_{23} p_{2} & B_{24} p_{2} & B_{25} p_{2} & B_{26} p_{2} & B_{27} p_{2} & B_{28} p_{2}\\\\0 & 0 & 0 & B_{31} p_{3} & B_{32} p_{3} & B_{33} p_{3} & B_{34} p_{3} & B_{35} p_{3} & B_{36} p_{3} & B_{37} p_{3} & B_{38} p_{3}\\\\0 & 0 & 0 & 0 & 0 & 0 & 0 & 0 & 0 & 0 & 0\\\\0 & 0 & 0 & 0 & 0 & 0 & 0 & 0 & 0 & 0 & 0\\\\0 & 0 & 0 & 0 & 0 & 0 & 0 & 0 & 0 & 0 & 0\\\\0 & 0 & 0 & 0 & 0 & 0 & 0 & 0 & 0 & 0 & 0\\\\0 & 0 & 0 & 0 & 0 & 0 & 0 & 0 & 0 & 0 & 0\\\\0 & 0 & 0 & 0 & 0 & 0 & 0 & 0 & 0 & 0 & 0\\\\0 & 0 & 0 & 0 & 0 & 0 & 0 & 0 & 0 & 0 & 0\\\\0 & 0 & 0 & 0 & 0 & 0 & 0 & 0 & 0 & 0 & 0\\end{array}\\right]$"
          },
          "metadata": {},
          "execution_count": 123
        }
      ]
    },
    {
      "cell_type": "code",
      "source": [
        " mu_E, x, y , mu_P, mu_A, mu_C, delta  = sym.symbols('mu_E x y mu_P mu_A mu_C delta')"
      ],
      "metadata": {
        "id": "_EYvdiENn3aY"
      },
      "execution_count": 126,
      "outputs": []
    },
    {
      "cell_type": "code",
      "source": [
        " Vi =sym.Matrix([[mu_E+x,0,0,0,0,0,0,0,0,0,0],\n",
        "                      [0,mu_E,0,0,0,0,0,0,0,0,0],\n",
        "                      [-x,0,mu_E,0,0,0,0,0,0,0,0],\n",
        "                      [-mu_E*(1-y),0,0,mu_A+x,0,0,0,0,0,0,0],\n",
        "                      [0,-mu_E*(1-y),0,0,mu_A,0,0,0,0,0,0],\n",
        "                      [0,0,-mu_E*(1-y*(1-delta)),-x,0,mu_A,0,0,0,0,0],\n",
        "                      [-mu_E*y,0,0,0,0,0,mu_P+x,0,0,0,0],\n",
        "                      [0,-mu_E*y,0,0,0,0,0,mu_P,0,0,0],\n",
        "                      [0,0,-mu_E*y*(1-delta),0,0,0,-x,0,mu_P,0,0],\n",
        "                      [0,0,0,0,0,0,-mu_P,-mu_P,0,mu_C,0],\n",
        "                      [0,0,0,0,0,0,0,0,-mu_P,0,mu_C]])"
      ],
      "metadata": {
        "id": "GsU3hgqFn1Tp"
      },
      "execution_count": 127,
      "outputs": []
    },
    {
      "cell_type": "code",
      "source": [
        "NGM = Fi*Vi.inv()\n",
        "NGM"
      ],
      "metadata": {
        "colab": {
          "base_uri": "https://localhost:8080/",
          "height": 299
        },
        "id": "k7IsNdOZpLZF",
        "outputId": "f0801e0b-a8d3-4578-9005-d0b683384244"
      },
      "execution_count": 139,
      "outputs": [
        {
          "output_type": "execute_result",
          "data": {
            "text/plain": [
              "⎡                                      ⎛               2                      \n",
              "⎢   B₁₁⋅p₁⋅(-μ_E⋅y + μ_E)       B₁₃⋅p₁⋅⎝δ⋅μ_A⋅x⋅y + δ⋅x ⋅y - μ_A⋅x⋅y + μ_A⋅x -\n",
              "⎢──────────────────────────── + ──────────────────────────────────────────────\n",
              "⎢                           2                         2          2            \n",
              "⎢μ_A⋅μ_E + μ_A⋅x + μ_E⋅x + x                       μ_A ⋅μ_E + μ_A ⋅x + μ_A⋅μ_E\n",
              "⎢                                                                             \n",
              "⎢                                      ⎛               2                      \n",
              "⎢   B₂₁⋅p₂⋅(-μ_E⋅y + μ_E)       B₂₃⋅p₂⋅⎝δ⋅μ_A⋅x⋅y + δ⋅x ⋅y - μ_A⋅x⋅y + μ_A⋅x -\n",
              "⎢──────────────────────────── + ──────────────────────────────────────────────\n",
              "⎢                           2                         2          2            \n",
              "⎢μ_A⋅μ_E + μ_A⋅x + μ_E⋅x + x                       μ_A ⋅μ_E + μ_A ⋅x + μ_A⋅μ_E\n",
              "⎢                                                                             \n",
              "⎢                                      ⎛               2                      \n",
              "⎢   B₃₁⋅p₃⋅(-μ_E⋅y + μ_E)       B₃₃⋅p₃⋅⎝δ⋅μ_A⋅x⋅y + δ⋅x ⋅y - μ_A⋅x⋅y + μ_A⋅x -\n",
              "⎢──────────────────────────── + ──────────────────────────────────────────────\n",
              "⎢                           2                         2          2            \n",
              "⎢μ_A⋅μ_E + μ_A⋅x + μ_E⋅x + x                       μ_A ⋅μ_E + μ_A ⋅x + μ_A⋅μ_E\n",
              "⎢                                                                             \n",
              "⎢                                                                             \n",
              "⎢                                                                             \n",
              "⎢                                                                             \n",
              "⎢                                                                             \n",
              "⎢                                                                             \n",
              "⎢                                                                             \n",
              "⎢                                                                             \n",
              "⎢                                                                             \n",
              "⎢                                                                             \n",
              "⎢                                                                             \n",
              "⎢                                                                             \n",
              "⎢                                                                             \n",
              "⎢                                                                             \n",
              "⎢                                                                             \n",
              "⎣                                                                             \n",
              "\n",
              "                    2      2⎞                                         ⎛       \n",
              " μ_E⋅x⋅y + μ_E⋅x - x ⋅y + x ⎠           B₁₄⋅μ_E⋅p₁⋅y           B₁₆⋅p₁⋅⎝-δ⋅μ_P⋅\n",
              "───────────────────────────── + ──────────────────────────── + ───────────────\n",
              "          2                                                2                  \n",
              "⋅x + μ_A⋅x                      μ_E⋅μ_P + μ_E⋅x + μ_P⋅x + x             μ_E⋅μ_\n",
              "                                                                              \n",
              "                    2      2⎞                                         ⎛       \n",
              " μ_E⋅x⋅y + μ_E⋅x - x ⋅y + x ⎠           B₂₄⋅μ_E⋅p₂⋅y           B₂₆⋅p₂⋅⎝-δ⋅μ_P⋅\n",
              "───────────────────────────── + ──────────────────────────── + ───────────────\n",
              "          2                                                2                  \n",
              "⋅x + μ_A⋅x                      μ_E⋅μ_P + μ_E⋅x + μ_P⋅x + x             μ_E⋅μ_\n",
              "                                                                              \n",
              "                    2      2⎞                                         ⎛       \n",
              " μ_E⋅x⋅y + μ_E⋅x - x ⋅y + x ⎠           B₃₄⋅μ_E⋅p₃⋅y           B₃₆⋅p₃⋅⎝-δ⋅μ_P⋅\n",
              "───────────────────────────── + ──────────────────────────── + ───────────────\n",
              "          2                                                2                  \n",
              "⋅x + μ_A⋅x                      μ_E⋅μ_P + μ_E⋅x + μ_P⋅x + x             μ_E⋅μ_\n",
              "                                                                              \n",
              "                                                                        0     \n",
              "                                                                              \n",
              "                                                                        0     \n",
              "                                                                              \n",
              "                                                                        0     \n",
              "                                                                              \n",
              "                                                                        0     \n",
              "                                                                              \n",
              "                                                                        0     \n",
              "                                                                              \n",
              "                                                                        0     \n",
              "                                                                              \n",
              "                                                                        0     \n",
              "                                                                              \n",
              "                                                                        0     \n",
              "\n",
              "         2                          2  ⎞                                      \n",
              "x⋅y - δ⋅x ⋅y + μ_E⋅x⋅y + μ_P⋅x⋅y + x ⋅y⎠                 B₁₇⋅μ_E⋅μ_P⋅p₁⋅y     \n",
              "──────────────────────────────────────── + ───────────────────────────────────\n",
              " 2                  2          2                                              \n",
              "P  + μ_E⋅μ_P⋅x + μ_P ⋅x + μ_P⋅x            μ_C⋅μ_E⋅μ_P + μ_C⋅μ_E⋅x + μ_C⋅μ_P⋅x\n",
              "                                                                              \n",
              "         2                          2  ⎞                                      \n",
              "x⋅y - δ⋅x ⋅y + μ_E⋅x⋅y + μ_P⋅x⋅y + x ⋅y⎠                 B₂₇⋅μ_E⋅μ_P⋅p₂⋅y     \n",
              "──────────────────────────────────────── + ───────────────────────────────────\n",
              " 2                  2          2                                              \n",
              "P  + μ_E⋅μ_P⋅x + μ_P ⋅x + μ_P⋅x            μ_C⋅μ_E⋅μ_P + μ_C⋅μ_E⋅x + μ_C⋅μ_P⋅x\n",
              "                                                                              \n",
              "         2                          2  ⎞                                      \n",
              "x⋅y - δ⋅x ⋅y + μ_E⋅x⋅y + μ_P⋅x⋅y + x ⋅y⎠                 B₃₇⋅μ_E⋅μ_P⋅p₃⋅y     \n",
              "──────────────────────────────────────── + ───────────────────────────────────\n",
              " 2                  2          2                                              \n",
              "P  + μ_E⋅μ_P⋅x + μ_P ⋅x + μ_P⋅x            μ_C⋅μ_E⋅μ_P + μ_C⋅μ_E⋅x + μ_C⋅μ_P⋅x\n",
              "                                                                              \n",
              "                                                                              \n",
              "                                                                              \n",
              "                                                                              \n",
              "                                                                              \n",
              "                                                                              \n",
              "                                                                              \n",
              "                                                                              \n",
              "                                                                              \n",
              "                                                                              \n",
              "                                                                              \n",
              "                                                                              \n",
              "                                                                              \n",
              "                                                                              \n",
              "                                                                              \n",
              "                                                                              \n",
              "\n",
              "                   ⎛                2                          2  ⎞           \n",
              "            B₁₈⋅p₁⋅⎝-δ⋅μ_P⋅x⋅y - δ⋅x ⋅y + μ_E⋅x⋅y + μ_P⋅x⋅y + x ⋅y⎠         ⎛ \n",
              "───────── + ───────────────────────────────────────────────────────  B₁₂⋅p₁⋅⎜-\n",
              "        2                                                    2              ⎝ \n",
              " + μ_C⋅x          μ_C⋅μ_E⋅μ_P + μ_C⋅μ_E⋅x + μ_C⋅μ_P⋅x + μ_C⋅x                 \n",
              "                                                                              \n",
              "                   ⎛                2                          2  ⎞           \n",
              "            B₂₈⋅p₂⋅⎝-δ⋅μ_P⋅x⋅y - δ⋅x ⋅y + μ_E⋅x⋅y + μ_P⋅x⋅y + x ⋅y⎠         ⎛ \n",
              "───────── + ───────────────────────────────────────────────────────  B₂₂⋅p₂⋅⎜-\n",
              "        2                                                    2              ⎝ \n",
              " + μ_C⋅x          μ_C⋅μ_E⋅μ_P + μ_C⋅μ_E⋅x + μ_C⋅μ_P⋅x + μ_C⋅x                 \n",
              "                                                                              \n",
              "                   ⎛                2                          2  ⎞           \n",
              "            B₃₈⋅p₃⋅⎝-δ⋅μ_P⋅x⋅y - δ⋅x ⋅y + μ_E⋅x⋅y + μ_P⋅x⋅y + x ⋅y⎠         ⎛ \n",
              "───────── + ───────────────────────────────────────────────────────  B₃₂⋅p₃⋅⎜-\n",
              "        2                                                    2              ⎝ \n",
              " + μ_C⋅x          μ_C⋅μ_E⋅μ_P + μ_C⋅μ_E⋅x + μ_C⋅μ_P⋅x + μ_C⋅x                 \n",
              "                                                                              \n",
              "                                                                              \n",
              "                                                                              \n",
              "                                                                              \n",
              "                                                                              \n",
              "                                                                              \n",
              "                                                                              \n",
              "                                                                              \n",
              "                                                                              \n",
              "                                                                              \n",
              "                                                                              \n",
              "                                                                              \n",
              "                                                                              \n",
              "                                                                              \n",
              "                                                                              \n",
              "                                                                              \n",
              "\n",
              "                                                                              \n",
              "  y     1 ⎞   B₁₅⋅p₁⋅y   B₁₇⋅p₁⋅y  B₁₃⋅p₁⋅(δ⋅y - y + 1)   B₁₆⋅p₁⋅(-δ⋅y + y)   \n",
              " ─── + ───⎟ + ──────── + ────────  ──────────────────── + ───────────────── + \n",
              " μ_A   μ_A⎠     μ_P        μ_C             μ_A                   μ_P          \n",
              "                                                                              \n",
              "                                                                              \n",
              "                                                                              \n",
              "  y     1 ⎞   B₂₅⋅p₂⋅y   B₂₇⋅p₂⋅y  B₂₃⋅p₂⋅(δ⋅y - y + 1)   B₂₆⋅p₂⋅(-δ⋅y + y)   \n",
              " ─── + ───⎟ + ──────── + ────────  ──────────────────── + ───────────────── + \n",
              " μ_A   μ_A⎠     μ_P        μ_C             μ_A                   μ_P          \n",
              "                                                                              \n",
              "                                                                              \n",
              "                                                                              \n",
              "  y     1 ⎞   B₃₅⋅p₃⋅y   B₃₇⋅p₃⋅y  B₃₃⋅p₃⋅(δ⋅y - y + 1)   B₃₆⋅p₃⋅(-δ⋅y + y)   \n",
              " ─── + ───⎟ + ──────── + ────────  ──────────────────── + ───────────────── + \n",
              " μ_A   μ_A⎠     μ_P        μ_C             μ_A                   μ_P          \n",
              "                                                                              \n",
              "                                                                              \n",
              "           0                                                    0             \n",
              "                                                                              \n",
              "           0                                                    0             \n",
              "                                                                              \n",
              "           0                                                    0             \n",
              "                                                                              \n",
              "           0                                                    0             \n",
              "                                                                              \n",
              "           0                                                    0             \n",
              "                                                                              \n",
              "           0                                                    0             \n",
              "                                                                              \n",
              "           0                                                    0             \n",
              "                                                                              \n",
              "           0                                                    0             \n",
              "\n",
              "                                                                              \n",
              "B₁₈⋅p₁⋅(-δ⋅y + y)   B₁₁⋅p₁     B₁₃⋅p₁⋅x    B₁₂⋅p₁  B₁₃⋅p₁   B₁₄⋅p₁     B₁₆⋅p₁⋅\n",
              "─────────────────  ─────── + ────────────  ──────  ──────  ─────── + ─────────\n",
              "       μ_C         μ_A + x      2           μ_A     μ_A    μ_P + x      2     \n",
              "                             μ_A  + μ_A⋅x                            μ_P  + μ_\n",
              "                                                                              \n",
              "                                                                              \n",
              "B₂₈⋅p₂⋅(-δ⋅y + y)   B₂₁⋅p₂     B₂₃⋅p₂⋅x    B₂₂⋅p₂  B₂₃⋅p₂   B₂₄⋅p₂     B₂₆⋅p₂⋅\n",
              "─────────────────  ─────── + ────────────  ──────  ──────  ─────── + ─────────\n",
              "       μ_C         μ_A + x      2           μ_A     μ_A    μ_P + x      2     \n",
              "                             μ_A  + μ_A⋅x                            μ_P  + μ_\n",
              "                                                                              \n",
              "                                                                              \n",
              "B₃₈⋅p₃⋅(-δ⋅y + y)   B₃₁⋅p₃     B₃₃⋅p₃⋅x    B₃₂⋅p₃  B₃₃⋅p₃   B₃₄⋅p₃     B₃₆⋅p₃⋅\n",
              "─────────────────  ─────── + ────────────  ──────  ──────  ─────── + ─────────\n",
              "       μ_C         μ_A + x      2           μ_A     μ_A    μ_P + x      2     \n",
              "                             μ_A  + μ_A⋅x                            μ_P  + μ_\n",
              "                                                                              \n",
              "                             0               0       0                        \n",
              "                                                                              \n",
              "                             0               0       0                        \n",
              "                                                                              \n",
              "                             0               0       0                        \n",
              "                                                                              \n",
              "                             0               0       0                        \n",
              "                                                                              \n",
              "                             0               0       0                        \n",
              "                                                                              \n",
              "                             0               0       0                        \n",
              "                                                                              \n",
              "                             0               0       0                        \n",
              "                                                                              \n",
              "                             0               0       0                        \n",
              "\n",
              "                                                                              \n",
              "x        B₁₇⋅μ_P⋅p₁         B₁₈⋅p₁⋅x     B₁₅⋅p₁   B₁₇⋅p₁  B₁₆⋅p₁   B₁₈⋅p₁  B₁₇\n",
              "─── + ─────────────── + ───────────────  ────── + ──────  ────── + ──────  ───\n",
              "      μ_C⋅μ_P + μ_C⋅x   μ_C⋅μ_P + μ_C⋅x   μ_P      μ_C     μ_P      μ_C     μ_\n",
              "P⋅x                                                                           \n",
              "                                                                              \n",
              "                                                                              \n",
              "x        B₂₇⋅μ_P⋅p₂         B₂₈⋅p₂⋅x     B₂₅⋅p₂   B₂₇⋅p₂  B₂₆⋅p₂   B₂₈⋅p₂  B₂₇\n",
              "─── + ─────────────── + ───────────────  ────── + ──────  ────── + ──────  ───\n",
              "      μ_C⋅μ_P + μ_C⋅x   μ_C⋅μ_P + μ_C⋅x   μ_P      μ_C     μ_P      μ_C     μ_\n",
              "P⋅x                                                                           \n",
              "                                                                              \n",
              "                                                                              \n",
              "x        B₃₇⋅μ_P⋅p₃         B₃₈⋅p₃⋅x     B₃₅⋅p₃   B₃₇⋅p₃  B₃₆⋅p₃   B₃₈⋅p₃  B₃₇\n",
              "─── + ─────────────── + ───────────────  ────── + ──────  ────── + ──────  ───\n",
              "      μ_C⋅μ_P + μ_C⋅x   μ_C⋅μ_P + μ_C⋅x   μ_P      μ_C     μ_P      μ_C     μ_\n",
              "P⋅x                                                                           \n",
              "                                                                              \n",
              "         0                                      0                0           0\n",
              "                                                                              \n",
              "         0                                      0                0           0\n",
              "                                                                              \n",
              "         0                                      0                0           0\n",
              "                                                                              \n",
              "         0                                      0                0           0\n",
              "                                                                              \n",
              "         0                                      0                0           0\n",
              "                                                                              \n",
              "         0                                      0                0           0\n",
              "                                                                              \n",
              "         0                                      0                0           0\n",
              "                                                                              \n",
              "         0                                      0                0           0\n",
              "\n",
              "           ⎤\n",
              "⋅p₁  B₁₈⋅p₁⎥\n",
              "───  ──────⎥\n",
              "C     μ_C  ⎥\n",
              "           ⎥\n",
              "           ⎥\n",
              "           ⎥\n",
              "⋅p₂  B₂₈⋅p₂⎥\n",
              "───  ──────⎥\n",
              "C     μ_C  ⎥\n",
              "           ⎥\n",
              "           ⎥\n",
              "           ⎥\n",
              "⋅p₃  B₃₈⋅p₃⎥\n",
              "───  ──────⎥\n",
              "C     μ_C  ⎥\n",
              "           ⎥\n",
              "           ⎥\n",
              "       0   ⎥\n",
              "           ⎥\n",
              "       0   ⎥\n",
              "           ⎥\n",
              "       0   ⎥\n",
              "           ⎥\n",
              "       0   ⎥\n",
              "           ⎥\n",
              "       0   ⎥\n",
              "           ⎥\n",
              "       0   ⎥\n",
              "           ⎥\n",
              "       0   ⎥\n",
              "           ⎥\n",
              "       0   ⎦"
            ],
            "text/latex": "$\\displaystyle \\left[\\begin{array}{ccccccccccc}\\frac{B_{11} p_{1} \\left(- \\mu_{E} y + \\mu_{E}\\right)}{\\mu_{A} \\mu_{E} + \\mu_{A} x + \\mu_{E} x + x^{2}} + \\frac{B_{13} p_{1} \\left(\\delta \\mu_{A} x y + \\delta x^{2} y - \\mu_{A} x y + \\mu_{A} x - \\mu_{E} x y + \\mu_{E} x - x^{2} y + x^{2}\\right)}{\\mu_{A}^{2} \\mu_{E} + \\mu_{A}^{2} x + \\mu_{A} \\mu_{E} x + \\mu_{A} x^{2}} + \\frac{B_{14} \\mu_{E} p_{1} y}{\\mu_{E} \\mu_{P} + \\mu_{E} x + \\mu_{P} x + x^{2}} + \\frac{B_{16} p_{1} \\left(- \\delta \\mu_{P} x y - \\delta x^{2} y + \\mu_{E} x y + \\mu_{P} x y + x^{2} y\\right)}{\\mu_{E} \\mu_{P}^{2} + \\mu_{E} \\mu_{P} x + \\mu_{P}^{2} x + \\mu_{P} x^{2}} + \\frac{B_{17} \\mu_{E} \\mu_{P} p_{1} y}{\\mu_{C} \\mu_{E} \\mu_{P} + \\mu_{C} \\mu_{E} x + \\mu_{C} \\mu_{P} x + \\mu_{C} x^{2}} + \\frac{B_{18} p_{1} \\left(- \\delta \\mu_{P} x y - \\delta x^{2} y + \\mu_{E} x y + \\mu_{P} x y + x^{2} y\\right)}{\\mu_{C} \\mu_{E} \\mu_{P} + \\mu_{C} \\mu_{E} x + \\mu_{C} \\mu_{P} x + \\mu_{C} x^{2}} & B_{12} p_{1} \\left(- \\frac{y}{\\mu_{A}} + \\frac{1}{\\mu_{A}}\\right) + \\frac{B_{15} p_{1} y}{\\mu_{P}} + \\frac{B_{17} p_{1} y}{\\mu_{C}} & \\frac{B_{13} p_{1} \\left(\\delta y - y + 1\\right)}{\\mu_{A}} + \\frac{B_{16} p_{1} \\left(- \\delta y + y\\right)}{\\mu_{P}} + \\frac{B_{18} p_{1} \\left(- \\delta y + y\\right)}{\\mu_{C}} & \\frac{B_{11} p_{1}}{\\mu_{A} + x} + \\frac{B_{13} p_{1} x}{\\mu_{A}^{2} + \\mu_{A} x} & \\frac{B_{12} p_{1}}{\\mu_{A}} & \\frac{B_{13} p_{1}}{\\mu_{A}} & \\frac{B_{14} p_{1}}{\\mu_{P} + x} + \\frac{B_{16} p_{1} x}{\\mu_{P}^{2} + \\mu_{P} x} + \\frac{B_{17} \\mu_{P} p_{1}}{\\mu_{C} \\mu_{P} + \\mu_{C} x} + \\frac{B_{18} p_{1} x}{\\mu_{C} \\mu_{P} + \\mu_{C} x} & \\frac{B_{15} p_{1}}{\\mu_{P}} + \\frac{B_{17} p_{1}}{\\mu_{C}} & \\frac{B_{16} p_{1}}{\\mu_{P}} + \\frac{B_{18} p_{1}}{\\mu_{C}} & \\frac{B_{17} p_{1}}{\\mu_{C}} & \\frac{B_{18} p_{1}}{\\mu_{C}}\\\\\\frac{B_{21} p_{2} \\left(- \\mu_{E} y + \\mu_{E}\\right)}{\\mu_{A} \\mu_{E} + \\mu_{A} x + \\mu_{E} x + x^{2}} + \\frac{B_{23} p_{2} \\left(\\delta \\mu_{A} x y + \\delta x^{2} y - \\mu_{A} x y + \\mu_{A} x - \\mu_{E} x y + \\mu_{E} x - x^{2} y + x^{2}\\right)}{\\mu_{A}^{2} \\mu_{E} + \\mu_{A}^{2} x + \\mu_{A} \\mu_{E} x + \\mu_{A} x^{2}} + \\frac{B_{24} \\mu_{E} p_{2} y}{\\mu_{E} \\mu_{P} + \\mu_{E} x + \\mu_{P} x + x^{2}} + \\frac{B_{26} p_{2} \\left(- \\delta \\mu_{P} x y - \\delta x^{2} y + \\mu_{E} x y + \\mu_{P} x y + x^{2} y\\right)}{\\mu_{E} \\mu_{P}^{2} + \\mu_{E} \\mu_{P} x + \\mu_{P}^{2} x + \\mu_{P} x^{2}} + \\frac{B_{27} \\mu_{E} \\mu_{P} p_{2} y}{\\mu_{C} \\mu_{E} \\mu_{P} + \\mu_{C} \\mu_{E} x + \\mu_{C} \\mu_{P} x + \\mu_{C} x^{2}} + \\frac{B_{28} p_{2} \\left(- \\delta \\mu_{P} x y - \\delta x^{2} y + \\mu_{E} x y + \\mu_{P} x y + x^{2} y\\right)}{\\mu_{C} \\mu_{E} \\mu_{P} + \\mu_{C} \\mu_{E} x + \\mu_{C} \\mu_{P} x + \\mu_{C} x^{2}} & B_{22} p_{2} \\left(- \\frac{y}{\\mu_{A}} + \\frac{1}{\\mu_{A}}\\right) + \\frac{B_{25} p_{2} y}{\\mu_{P}} + \\frac{B_{27} p_{2} y}{\\mu_{C}} & \\frac{B_{23} p_{2} \\left(\\delta y - y + 1\\right)}{\\mu_{A}} + \\frac{B_{26} p_{2} \\left(- \\delta y + y\\right)}{\\mu_{P}} + \\frac{B_{28} p_{2} \\left(- \\delta y + y\\right)}{\\mu_{C}} & \\frac{B_{21} p_{2}}{\\mu_{A} + x} + \\frac{B_{23} p_{2} x}{\\mu_{A}^{2} + \\mu_{A} x} & \\frac{B_{22} p_{2}}{\\mu_{A}} & \\frac{B_{23} p_{2}}{\\mu_{A}} & \\frac{B_{24} p_{2}}{\\mu_{P} + x} + \\frac{B_{26} p_{2} x}{\\mu_{P}^{2} + \\mu_{P} x} + \\frac{B_{27} \\mu_{P} p_{2}}{\\mu_{C} \\mu_{P} + \\mu_{C} x} + \\frac{B_{28} p_{2} x}{\\mu_{C} \\mu_{P} + \\mu_{C} x} & \\frac{B_{25} p_{2}}{\\mu_{P}} + \\frac{B_{27} p_{2}}{\\mu_{C}} & \\frac{B_{26} p_{2}}{\\mu_{P}} + \\frac{B_{28} p_{2}}{\\mu_{C}} & \\frac{B_{27} p_{2}}{\\mu_{C}} & \\frac{B_{28} p_{2}}{\\mu_{C}}\\\\\\frac{B_{31} p_{3} \\left(- \\mu_{E} y + \\mu_{E}\\right)}{\\mu_{A} \\mu_{E} + \\mu_{A} x + \\mu_{E} x + x^{2}} + \\frac{B_{33} p_{3} \\left(\\delta \\mu_{A} x y + \\delta x^{2} y - \\mu_{A} x y + \\mu_{A} x - \\mu_{E} x y + \\mu_{E} x - x^{2} y + x^{2}\\right)}{\\mu_{A}^{2} \\mu_{E} + \\mu_{A}^{2} x + \\mu_{A} \\mu_{E} x + \\mu_{A} x^{2}} + \\frac{B_{34} \\mu_{E} p_{3} y}{\\mu_{E} \\mu_{P} + \\mu_{E} x + \\mu_{P} x + x^{2}} + \\frac{B_{36} p_{3} \\left(- \\delta \\mu_{P} x y - \\delta x^{2} y + \\mu_{E} x y + \\mu_{P} x y + x^{2} y\\right)}{\\mu_{E} \\mu_{P}^{2} + \\mu_{E} \\mu_{P} x + \\mu_{P}^{2} x + \\mu_{P} x^{2}} + \\frac{B_{37} \\mu_{E} \\mu_{P} p_{3} y}{\\mu_{C} \\mu_{E} \\mu_{P} + \\mu_{C} \\mu_{E} x + \\mu_{C} \\mu_{P} x + \\mu_{C} x^{2}} + \\frac{B_{38} p_{3} \\left(- \\delta \\mu_{P} x y - \\delta x^{2} y + \\mu_{E} x y + \\mu_{P} x y + x^{2} y\\right)}{\\mu_{C} \\mu_{E} \\mu_{P} + \\mu_{C} \\mu_{E} x + \\mu_{C} \\mu_{P} x + \\mu_{C} x^{2}} & B_{32} p_{3} \\left(- \\frac{y}{\\mu_{A}} + \\frac{1}{\\mu_{A}}\\right) + \\frac{B_{35} p_{3} y}{\\mu_{P}} + \\frac{B_{37} p_{3} y}{\\mu_{C}} & \\frac{B_{33} p_{3} \\left(\\delta y - y + 1\\right)}{\\mu_{A}} + \\frac{B_{36} p_{3} \\left(- \\delta y + y\\right)}{\\mu_{P}} + \\frac{B_{38} p_{3} \\left(- \\delta y + y\\right)}{\\mu_{C}} & \\frac{B_{31} p_{3}}{\\mu_{A} + x} + \\frac{B_{33} p_{3} x}{\\mu_{A}^{2} + \\mu_{A} x} & \\frac{B_{32} p_{3}}{\\mu_{A}} & \\frac{B_{33} p_{3}}{\\mu_{A}} & \\frac{B_{34} p_{3}}{\\mu_{P} + x} + \\frac{B_{36} p_{3} x}{\\mu_{P}^{2} + \\mu_{P} x} + \\frac{B_{37} \\mu_{P} p_{3}}{\\mu_{C} \\mu_{P} + \\mu_{C} x} + \\frac{B_{38} p_{3} x}{\\mu_{C} \\mu_{P} + \\mu_{C} x} & \\frac{B_{35} p_{3}}{\\mu_{P}} + \\frac{B_{37} p_{3}}{\\mu_{C}} & \\frac{B_{36} p_{3}}{\\mu_{P}} + \\frac{B_{38} p_{3}}{\\mu_{C}} & \\frac{B_{37} p_{3}}{\\mu_{C}} & \\frac{B_{38} p_{3}}{\\mu_{C}}\\\\0 & 0 & 0 & 0 & 0 & 0 & 0 & 0 & 0 & 0 & 0\\\\0 & 0 & 0 & 0 & 0 & 0 & 0 & 0 & 0 & 0 & 0\\\\0 & 0 & 0 & 0 & 0 & 0 & 0 & 0 & 0 & 0 & 0\\\\0 & 0 & 0 & 0 & 0 & 0 & 0 & 0 & 0 & 0 & 0\\\\0 & 0 & 0 & 0 & 0 & 0 & 0 & 0 & 0 & 0 & 0\\\\0 & 0 & 0 & 0 & 0 & 0 & 0 & 0 & 0 & 0 & 0\\\\0 & 0 & 0 & 0 & 0 & 0 & 0 & 0 & 0 & 0 & 0\\\\0 & 0 & 0 & 0 & 0 & 0 & 0 & 0 & 0 & 0 & 0\\end{array}\\right]$"
          },
          "metadata": {},
          "execution_count": 139
        }
      ]
    },
    {
      "cell_type": "code",
      "source": [
        "for i in range(3):\n",
        "  print(NGM[i,i])"
      ],
      "metadata": {
        "colab": {
          "base_uri": "https://localhost:8080/"
        },
        "id": "C3GbMOpU_PFS",
        "outputId": "70209d62-e4fe-4463-f151-b1bb23b52385"
      },
      "execution_count": 140,
      "outputs": [
        {
          "output_type": "stream",
          "name": "stdout",
          "text": [
            "B_11*p_1*(-mu_E*y + mu_E)/(mu_A*mu_E + mu_A*x + mu_E*x + x**2) + B_13*p_1*(delta*mu_A*x*y + delta*x**2*y - mu_A*x*y + mu_A*x - mu_E*x*y + mu_E*x - x**2*y + x**2)/(mu_A**2*mu_E + mu_A**2*x + mu_A*mu_E*x + mu_A*x**2) + B_14*mu_E*p_1*y/(mu_E*mu_P + mu_E*x + mu_P*x + x**2) + B_16*p_1*(-delta*mu_P*x*y - delta*x**2*y + mu_E*x*y + mu_P*x*y + x**2*y)/(mu_E*mu_P**2 + mu_E*mu_P*x + mu_P**2*x + mu_P*x**2) + B_17*mu_E*mu_P*p_1*y/(mu_C*mu_E*mu_P + mu_C*mu_E*x + mu_C*mu_P*x + mu_C*x**2) + B_18*p_1*(-delta*mu_P*x*y - delta*x**2*y + mu_E*x*y + mu_P*x*y + x**2*y)/(mu_C*mu_E*mu_P + mu_C*mu_E*x + mu_C*mu_P*x + mu_C*x**2)\n",
            "B_22*p_2*(-y/mu_A + 1/mu_A) + B_25*p_2*y/mu_P + B_27*p_2*y/mu_C\n",
            "B_33*p_3*(delta*y - y + 1)/mu_A + B_36*p_3*(-delta*y + y)/mu_P + B_38*p_3*(-delta*y + y)/mu_C\n"
          ]
        }
      ]
    },
    {
      "cell_type": "code",
      "source": [
        "NGM[0,0]"
      ],
      "metadata": {
        "colab": {
          "base_uri": "https://localhost:8080/",
          "height": 104
        },
        "id": "mIJI27G4-90p",
        "outputId": "23c29525-b0b7-4596-cf56-3572ead8e242"
      },
      "execution_count": 141,
      "outputs": [
        {
          "output_type": "execute_result",
          "data": {
            "text/plain": [
              "                                      ⎛               2                       \n",
              "   B₁₁⋅p₁⋅(-μ_E⋅y + μ_E)       B₁₃⋅p₁⋅⎝δ⋅μ_A⋅x⋅y + δ⋅x ⋅y - μ_A⋅x⋅y + μ_A⋅x - \n",
              "──────────────────────────── + ───────────────────────────────────────────────\n",
              "                           2                         2          2             \n",
              "μ_A⋅μ_E + μ_A⋅x + μ_E⋅x + x                       μ_A ⋅μ_E + μ_A ⋅x + μ_A⋅μ_E⋅\n",
              "\n",
              "                   2      2⎞                                         ⎛        \n",
              "μ_E⋅x⋅y + μ_E⋅x - x ⋅y + x ⎠           B₁₄⋅μ_E⋅p₁⋅y           B₁₆⋅p₁⋅⎝-δ⋅μ_P⋅x\n",
              "──────────────────────────── + ──────────────────────────── + ────────────────\n",
              "         2                                                2                   \n",
              "x + μ_A⋅x                      μ_E⋅μ_P + μ_E⋅x + μ_P⋅x + x             μ_E⋅μ_P\n",
              "\n",
              "        2                          2  ⎞                                       \n",
              "⋅y - δ⋅x ⋅y + μ_E⋅x⋅y + μ_P⋅x⋅y + x ⋅y⎠                 B₁₇⋅μ_E⋅μ_P⋅p₁⋅y      \n",
              "─────────────────────────────────────── + ────────────────────────────────────\n",
              "2                  2          2                                               \n",
              "  + μ_E⋅μ_P⋅x + μ_P ⋅x + μ_P⋅x            μ_C⋅μ_E⋅μ_P + μ_C⋅μ_E⋅x + μ_C⋅μ_P⋅x \n",
              "\n",
              "                  ⎛                2                          2  ⎞\n",
              "           B₁₈⋅p₁⋅⎝-δ⋅μ_P⋅x⋅y - δ⋅x ⋅y + μ_E⋅x⋅y + μ_P⋅x⋅y + x ⋅y⎠\n",
              "──────── + ───────────────────────────────────────────────────────\n",
              "       2                                                    2     \n",
              "+ μ_C⋅x          μ_C⋅μ_E⋅μ_P + μ_C⋅μ_E⋅x + μ_C⋅μ_P⋅x + μ_C⋅x      "
            ],
            "image/png": "[encoded data removed]",
            "text/latex": "$\\displaystyle \\frac{B_{11} p_{1} \\left(- \\mu_{E} y + \\mu_{E}\\right)}{\\mu_{A} \\mu_{E} + \\mu_{A} x + \\mu_{E} x + x^{2}} + \\frac{B_{13} p_{1} \\left(\\delta \\mu_{A} x y + \\delta x^{2} y - \\mu_{A} x y + \\mu_{A} x - \\mu_{E} x y + \\mu_{E} x - x^{2} y + x^{2}\\right)}{\\mu_{A}^{2} \\mu_{E} + \\mu_{A}^{2} x + \\mu_{A} \\mu_{E} x + \\mu_{A} x^{2}} + \\frac{B_{14} \\mu_{E} p_{1} y}{\\mu_{E} \\mu_{P} + \\mu_{E} x + \\mu_{P} x + x^{2}} + \\frac{B_{16} p_{1} \\left(- \\delta \\mu_{P} x y - \\delta x^{2} y + \\mu_{E} x y + \\mu_{P} x y + x^{2} y\\right)}{\\mu_{E} \\mu_{P}^{2} + \\mu_{E} \\mu_{P} x + \\mu_{P}^{2} x + \\mu_{P} x^{2}} + \\frac{B_{17} \\mu_{E} \\mu_{P} p_{1} y}{\\mu_{C} \\mu_{E} \\mu_{P} + \\mu_{C} \\mu_{E} x + \\mu_{C} \\mu_{P} x + \\mu_{C} x^{2}} + \\frac{B_{18} p_{1} \\left(- \\delta \\mu_{P} x y - \\delta x^{2} y + \\mu_{E} x y + \\mu_{P} x y + x^{2} y\\right)}{\\mu_{C} \\mu_{E} \\mu_{P} + \\mu_{C} \\mu_{E} x + \\mu_{C} \\mu_{P} x + \\mu_{C} x^{2}}$"
          },
          "metadata": {},
          "execution_count": 141
        }
      ]
    },
    {
      "cell_type": "code",
      "source": [
        "NGM[1,1]"
      ],
      "metadata": {
        "colab": {
          "base_uri": "https://localhost:8080/",
          "height": 58
        },
        "id": "MrkuYDtR_B8u",
        "outputId": "80b5fb1f-b4e2-43c8-b223-4f102f09fdba"
      },
      "execution_count": 137,
      "outputs": [
        {
          "output_type": "execute_result",
          "data": {
            "text/plain": [
              "       ⎛   y     1 ⎞   B₂₅⋅p₂⋅y   B₂₇⋅p₂⋅y\n",
              "B₂₂⋅p₂⋅⎜- ─── + ───⎟ + ──────── + ────────\n",
              "       ⎝  μ_A   μ_A⎠     μ_P        μ_C   "
            ],
            "image/png": "[encoded data removed]",
            "text/latex": "$\\displaystyle B_{22} p_{2} \\left(- \\frac{y}{\\mu_{A}} + \\frac{1}{\\mu_{A}}\\right) + \\frac{B_{25} p_{2} y}{\\mu_{P}} + \\frac{B_{27} p_{2} y}{\\mu_{C}}$"
          },
          "metadata": {},
          "execution_count": 137
        }
      ]
    },
    {
      "cell_type": "code",
      "source": [
        "NGM[3,3]"
      ],
      "metadata": {
        "colab": {
          "base_uri": "https://localhost:8080/",
          "height": 37
        },
        "id": "sBZLnSNQ-jcy",
        "outputId": "63d18ef1-5783-4bb4-e6a4-9a3309769423"
      },
      "execution_count": 138,
      "outputs": [
        {
          "output_type": "execute_result",
          "data": {
            "text/plain": [
              "0"
            ],
            "image/png": "[encoded data removed]",
            "text/latex": "$\\displaystyle 0$"
          },
          "metadata": {},
          "execution_count": 138
        }
      ]
    },
    {
      "cell_type": "code",
      "source": [
        ""
      ],
      "metadata": {
        "id": "ppTqVWrO24ym"
      },
      "execution_count": null,
      "outputs": []
    },
    {
      "cell_type": "code",
      "source": [
        "a = []\n",
        "for i in range(1,4): \n",
        "  for j in range(1,9): \n",
        "    # b = str('B_%i%i' %(i,j))\n",
        "    # a.append(b)\n",
        "    # print('B_%i%i' %(i,j)) \n",
        "    print('p_%i*B_%i%i,' %(i,i,j))\n"
      ],
      "metadata": {
        "colab": {
          "base_uri": "https://localhost:8080/"
        },
        "id": "H5vkzyTbzD4w",
        "outputId": "a9a0e3ba-1bf0-49f4-8d6a-c84e0cb8b43d"
      },
      "execution_count": 108,
      "outputs": [
        {
          "output_type": "stream",
          "name": "stdout",
          "text": [
            "p_1*B_11,\n",
            "p_1*B_12,\n",
            "p_1*B_13,\n",
            "p_1*B_14,\n",
            "p_1*B_15,\n",
            "p_1*B_16,\n",
            "p_1*B_17,\n",
            "p_1*B_18,\n",
            "p_2*B_21,\n",
            "p_2*B_22,\n",
            "p_2*B_23,\n",
            "p_2*B_24,\n",
            "p_2*B_25,\n",
            "p_2*B_26,\n",
            "p_2*B_27,\n",
            "p_2*B_28,\n",
            "p_3*B_31,\n",
            "p_3*B_32,\n",
            "p_3*B_33,\n",
            "p_3*B_34,\n",
            "p_3*B_35,\n",
            "p_3*B_36,\n",
            "p_3*B_37,\n",
            "p_3*B_38,\n"
          ]
        }
      ]
    },
    {
      "cell_type": "code",
      "source": [
        ""
      ],
      "metadata": {
        "id": "KJlYnPEXqmPB"
      },
      "execution_count": null,
      "outputs": []
    }
  ]
}